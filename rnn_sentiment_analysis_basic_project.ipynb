{
  "nbformat": 4,
  "nbformat_minor": 0,
  "metadata": {
    "colab": {
      "provenance": [],
      "gpuType": "T4",
      "authorship_tag": "ABX9TyOkzlgZ8TXXOXjjkJQGDuSY",
      "include_colab_link": true
    },
    "kernelspec": {
      "name": "python3",
      "display_name": "Python 3"
    },
    "language_info": {
      "name": "python"
    },
    "accelerator": "GPU"
  },
  "cells": [
    {
      "cell_type": "markdown",
      "metadata": {
        "id": "view-in-github",
        "colab_type": "text"
      },
      "source": [
        "<a href=\"https://colab.research.google.com/github/shivsablok27/rnn-lstm-review-sentiment-analysis/blob/main/rnn_sentiment_analysis_basic_project.ipynb\" target=\"_parent\"><img src=\"https://colab.research.google.com/assets/colab-badge.svg\" alt=\"Open In Colab\"/></a>"
      ]
    },
    {
      "cell_type": "markdown",
      "source": [
        "# 🎬 Sentiment Analysis of Movie Reviews using Recurrent Neural Networks (RNN)\n",
        "\n",
        "## 🔍 Project Overview\n",
        "\n",
        "In this project, we will build a **Sentiment Analysis model** using **Recurrent Neural Networks (RNNs)** to classify movie reviews as either **positive** or **negative**. The dataset we will use is the **IMDB Movie Reviews Dataset**, which is provided by Keras and contains 50,000 labeled movie reviews.\n",
        "\n",
        "Each review is preprocessed and represented as a sequence of word indices (integers), with labels:\n",
        "- **1** = Positive review\n",
        "- **0** = Negative review\n",
        "\n",
        "---\n",
        "\n",
        "## 📦 What is Sentiment Analysis?\n",
        "\n",
        "**Sentiment Analysis** is a popular **Natural Language Processing (NLP)** task where the goal is to determine the **emotional tone** behind a body of text. It helps us understand whether the opinion expressed in a piece of text is **positive, negative, or neutral**.\n",
        "\n",
        "---\n",
        "\n",
        "## 🧠 Why Recurrent Neural Network (RNN)?\n",
        "\n",
        "RNNs are specially designed to handle **sequential data**, like text. In a sentence or review:\n",
        "- The **meaning of a word** can depend on the **previous words**.\n",
        "- RNNs have a **memory** of previous steps, which helps in understanding **context**.\n",
        "\n",
        "Hence, they are a natural choice for **text classification tasks** such as sentiment analysis.\n",
        "\n",
        "---\n",
        "\n",
        "## 🧰 Tools & Libraries\n",
        "\n",
        "We will use the following:\n",
        "- **TensorFlow / Keras** for building and training the RNN model\n",
        "- **Matplotlib** for visualizing performance\n",
        "- **Keras's IMDB dataset** for data\n",
        "\n",
        "---\n",
        "\n",
        "## ✅ What We'll Do Step-by-Step:\n",
        "\n",
        "1. **Load and explore** the IMDB dataset  \n",
        "2. **Decode and visualize** raw reviews  \n",
        "3. **Preprocess** text sequences (padding, truncating)  \n",
        "4. **Build the RNN model** using Embedding + SimpleRNN  \n",
        "5. **Train** and **evaluate** the model  \n",
        "6. **Visualize** training progress  \n",
        "7. **Predict** new reviews and test model performance\n",
        "\n",
        "---\n",
        "\n",
        "## 🏁 Goal\n",
        "\n",
        "By the end of this project, we will have a working RNN model that can classify unseen movie reviews as **positive** or **negative** based on the text content.\n",
        "\n",
        "Let’s get started! 🚀\n"
      ],
      "metadata": {
        "id": "owqLavlWjktk"
      }
    },
    {
      "cell_type": "markdown",
      "source": [
        "---\n",
        "---"
      ],
      "metadata": {
        "id": "rnRdgT_vj-gb"
      }
    },
    {
      "cell_type": "markdown",
      "source": [
        "## 📥 Step 1: Loading the IMDB Sentiment Dataset\n",
        "\n",
        "We are using the **IMDB Movie Review Dataset** built into Keras. It contains:\n",
        "- **50,000** reviews in total\n",
        "  - 25,000 for training\n",
        "  - 25,000 for testing\n",
        "- Each review is already preprocessed and represented as a **sequence of integers**, where each integer corresponds to a word (based on word frequency ranking).\n",
        "- Labels:\n",
        "  - `1` → Positive sentiment\n",
        "  - `0` → Negative sentiment\n",
        "\n",
        "To simplify our model training, we will only keep the **top 10,000 most frequent words** from the dataset.\n",
        "\"Sirf top 10,000 most frequent words\" hi include karo dataset mein.\n",
        "Baaki jitne bhi rare words hain (low frequency wale), unko <UNK> token se replace kar diya jaayega (index 2).\n",
        "\n",
        "Let’s now load the dataset and take a look at its structure.\n"
      ],
      "metadata": {
        "id": "Yqeq45iHj658"
      }
    },
    {
      "cell_type": "code",
      "execution_count": 1,
      "metadata": {
        "colab": {
          "base_uri": "https://localhost:8080/"
        },
        "id": "w7VW-RXlhkhC",
        "outputId": "7071805c-fcd4-4dd6-b5b3-8f8b8eadb93d"
      },
      "outputs": [
        {
          "output_type": "stream",
          "name": "stdout",
          "text": [
            "Downloading data from https://storage.googleapis.com/tensorflow/tf-keras-datasets/imdb.npz\n",
            "\u001b[1m17464789/17464789\u001b[0m \u001b[32m━━━━━━━━━━━━━━━━━━━━\u001b[0m\u001b[37m\u001b[0m \u001b[1m0s\u001b[0m 0us/step\n",
            "Number of training samples: 25000\n",
            "Number of testing samples: 25000\n",
            "\n",
            "Encoded review (x_train[0]):\n",
            "[1, 14, 22, 16, 43, 530, 973, 1622, 1385, 65, 458, 4468, 66, 3941, 4, 173, 36, 256, 5, 25, 100, 43, 838, 112, 50, 670, 2, 9, 35, 480, 284, 5, 150, 4, 172, 112, 167, 2, 336, 385, 39, 4, 172, 4536, 1111, 17, 546, 38, 13, 447, 4, 192, 50, 16, 6, 147, 2025, 19, 14, 22, 4, 1920, 4613, 469, 4, 22, 71, 87, 12, 16, 43, 530, 38, 76, 15, 13, 1247, 4, 22, 17, 515, 17, 12, 16, 626, 18, 2, 5, 62, 386, 12, 8, 316, 8, 106, 5, 4, 2223, 5244, 16, 480, 66, 3785, 33, 4, 130, 12, 16, 38, 619, 5, 25, 124, 51, 36, 135, 48, 25, 1415, 33, 6, 22, 12, 215, 28, 77, 52, 5, 14, 407, 16, 82, 2, 8, 4, 107, 117, 5952, 15, 256, 4, 2, 7, 3766, 5, 723, 36, 71, 43, 530, 476, 26, 400, 317, 46, 7, 4, 2, 1029, 13, 104, 88, 4, 381, 15, 297, 98, 32, 2071, 56, 26, 141, 6, 194, 7486, 18, 4, 226, 22, 21, 134, 476, 26, 480, 5, 144, 30, 5535, 18, 51, 36, 28, 224, 92, 25, 104, 4, 226, 65, 16, 38, 1334, 88, 12, 16, 283, 5, 16, 4472, 113, 103, 32, 15, 16, 5345, 19, 178, 32]\n",
            "\n",
            "Sentiment label (y_train[0]): 1\n"
          ]
        }
      ],
      "source": [
        "# Import necessary libraries\n",
        "import numpy as np\n",
        "import matplotlib.pyplot as plt\n",
        "from tensorflow.keras.datasets import imdb\n",
        "\n",
        "# For reproducibility\n",
        "np.random.seed(42)\n",
        "\n",
        "# Define vocabulary size: only keep top 10,000 words\n",
        "vocab_size = 10000\n",
        "\n",
        "# Load the dataset from Keras\n",
        "# It returns: (x_train, y_train), (x_test, y_test)\n",
        "(x_train, y_train), (x_test, y_test) = imdb.load_data(num_words=vocab_size)\n",
        "\n",
        "# Print basic information\n",
        "print(f\"Number of training samples: {len(x_train)}\")\n",
        "print(f\"Number of testing samples: {len(x_test)}\")\n",
        "\n",
        "# Preview the first encoded review\n",
        "print(\"\\nEncoded review (x_train[0]):\")\n",
        "print(x_train[0])\n",
        "\n",
        "# Preview the corresponding sentiment label\n",
        "print(\"\\nSentiment label (y_train[0]):\", y_train[0])\n"
      ]
    },
    {
      "cell_type": "markdown",
      "source": [
        "## 🔤 Step 2: Decoding the Encoded Reviews into Readable Text\n",
        "\n",
        "The reviews in the IMDB dataset are encoded as sequences of integers, where:\n",
        "- Each integer represents a **specific word**.\n",
        "- These words are ranked by **frequency** (most common words get smaller indices).\n",
        "\n",
        "To interpret the reviews, we need to:\n",
        "1. **Load the word index** dictionary from Keras, which maps words to their integer index.\n",
        "2. **Reverse** this mapping to get index → word.\n",
        "3. **Decode** a review (list of integers) back into actual English words.\n",
        "\n",
        "Let’s decode the first review from the training data and see what it looks like in plain text!\n"
      ],
      "metadata": {
        "id": "fcWxv8wflwxS"
      }
    },
    {
      "cell_type": "code",
      "source": [
        "# Load the word index dictionary: word → integer\n",
        "word_index = imdb.get_word_index()\n",
        "\n",
        "# Shift the word indices by 3 because:\n",
        "# 0 = padding, 1 = start of sequence, 2 = unknown\n",
        "word_index = {word: (index + 3) for word, index in word_index.items()}\n",
        "\n",
        "# Add special tokens manually\n",
        "word_index[\"<PAD>\"] = 0\n",
        "word_index[\"<START>\"] = 1\n",
        "word_index[\"<UNK>\"] = 2\n",
        "word_index[\"<UNUSED>\"] = 3\n",
        "\n",
        "# Create reverse mapping: integer → word\n",
        "reverse_word_index = {index: word for word, index in word_index.items()}\n",
        "\n",
        "# Function to decode a review\n",
        "def decode_review(encoded_review):\n",
        "    return ' '.join([reverse_word_index.get(i, \"?\") for i in encoded_review])\n",
        "\n",
        "# Decode and print the first training review\n",
        "decoded = decode_review(x_train[0])\n",
        "print(\"📝 Decoded Review:\\n\")\n",
        "print(decoded)\n",
        "\n",
        "# Also print the sentiment label\n",
        "print(\"\\n✅ Sentiment Label:\", \"Positive\" if y_train[0] == 1 else \"Negative\")\n"
      ],
      "metadata": {
        "colab": {
          "base_uri": "https://localhost:8080/"
        },
        "id": "BRtTuRXikY7E",
        "outputId": "3f6f416b-10c6-40da-ef13-6fb221aec636"
      },
      "execution_count": 3,
      "outputs": [
        {
          "output_type": "stream",
          "name": "stdout",
          "text": [
            "📝 Decoded Review:\n",
            "\n",
            "<START> this film was just brilliant casting location scenery story direction everyone's really suited the part they played and you could just imagine being there robert <UNK> is an amazing actor and now the same being director <UNK> father came from the same scottish island as myself so i loved the fact there was a real connection with this film the witty remarks throughout the film were great it was just brilliant so much that i bought the film as soon as it was released for <UNK> and would recommend it to everyone to watch and the fly fishing was amazing really cried at the end it was so sad and you know what they say if you cry at a film it must have been good and this definitely was also <UNK> to the two little boy's that played the <UNK> of norman and paul they were just brilliant children are often left out of the <UNK> list i think because the stars that play them all grown up are such a big profile for the whole film but these children are amazing and should be praised for what they have done don't you think the whole story was so lovely because it was true and was someone's life after all that was shared with us all\n",
            "\n",
            "✅ Sentiment Label: Positive\n"
          ]
        }
      ]
    },
    {
      "cell_type": "markdown",
      "source": [
        "## 🧱 Step 3: Padding the Sequences\n",
        "\n",
        "To feed the reviews into a neural network, all input sequences must have the **same length**.\n",
        "\n",
        "Since the IMDB reviews vary in length, we will:\n",
        "- **Pad** shorter reviews with zeros (`<PAD>`) at the end.\n",
        "- **Truncate** longer reviews to a fixed size.\n",
        "\n",
        "We'll use Keras's `pad_sequences` function to do this.\n",
        "\n",
        "We’ll choose a maximum review length (e.g., 100 words) to standardize all reviews to length 100.\n"
      ],
      "metadata": {
        "id": "57OXKqo-oSFm"
      }
    },
    {
      "cell_type": "code",
      "source": [
        "from collections.abc import Sequence\n",
        "from tensorflow.keras.preprocessing.sequence import pad_sequences\n",
        "\n",
        "print(\"Shape of training data after padding:\", x_train.shape)\n",
        "print(\"Shape of test data after padding:\", x_test.shape)\n",
        "\n",
        "# Set maximum review length\n",
        "maxlen = 100  # You can experiment with this later\n",
        "\n",
        "# Pad training and testing sequences\n",
        "x_train_padded = pad_sequences(x_train, maxlen=maxlen, padding='post', truncating='post')\n",
        "x_test_padded = pad_sequences(x_test, maxlen=maxlen, padding='post', truncating='post')\n",
        "\n",
        "# Show shape after padding\n",
        "print(\"Shape of training data after padding:\", x_train_padded.shape)\n",
        "print(\"Shape of test data after padding:\", x_test_padded.shape)\n",
        "\n",
        "\n",
        "print(\"\\nFor an instance, length of 0th review\",len(x_train[0]))\n",
        "print(\"Length < 100, so Padding will be done\" if len(x_train[0])<100 else \"Length > 100, so Truncation will be done\")\n",
        "\n",
        "print(\"\\nOriginal review :\")\n",
        "print(np.array(x_train[0]))\n",
        "\n",
        "# Show a sample padded review\n",
        "print(\"\\nPadded review :\")\n",
        "print(x_train_padded[0])\n",
        "\n"
      ],
      "metadata": {
        "colab": {
          "base_uri": "https://localhost:8080/"
        },
        "id": "PfaJYH2ynwF8",
        "outputId": "7abe362b-08ee-4f90-a42e-b5ecd87d5f1b"
      },
      "execution_count": 4,
      "outputs": [
        {
          "output_type": "stream",
          "name": "stdout",
          "text": [
            "Shape of training data after padding: (25000,)\n",
            "Shape of test data after padding: (25000,)\n",
            "Shape of training data after padding: (25000, 100)\n",
            "Shape of test data after padding: (25000, 100)\n",
            "\n",
            "For an instance, length of 0th review 218\n",
            "Length > 100, so Truncation will be done\n",
            "\n",
            "Original review :\n",
            "[   1   14   22   16   43  530  973 1622 1385   65  458 4468   66 3941\n",
            "    4  173   36  256    5   25  100   43  838  112   50  670    2    9\n",
            "   35  480  284    5  150    4  172  112  167    2  336  385   39    4\n",
            "  172 4536 1111   17  546   38   13  447    4  192   50   16    6  147\n",
            " 2025   19   14   22    4 1920 4613  469    4   22   71   87   12   16\n",
            "   43  530   38   76   15   13 1247    4   22   17  515   17   12   16\n",
            "  626   18    2    5   62  386   12    8  316    8  106    5    4 2223\n",
            " 5244   16  480   66 3785   33    4  130   12   16   38  619    5   25\n",
            "  124   51   36  135   48   25 1415   33    6   22   12  215   28   77\n",
            "   52    5   14  407   16   82    2    8    4  107  117 5952   15  256\n",
            "    4    2    7 3766    5  723   36   71   43  530  476   26  400  317\n",
            "   46    7    4    2 1029   13  104   88    4  381   15  297   98   32\n",
            " 2071   56   26  141    6  194 7486   18    4  226   22   21  134  476\n",
            "   26  480    5  144   30 5535   18   51   36   28  224   92   25  104\n",
            "    4  226   65   16   38 1334   88   12   16  283    5   16 4472  113\n",
            "  103   32   15   16 5345   19  178   32]\n",
            "\n",
            "Padded review :\n",
            "[   1   14   22   16   43  530  973 1622 1385   65  458 4468   66 3941\n",
            "    4  173   36  256    5   25  100   43  838  112   50  670    2    9\n",
            "   35  480  284    5  150    4  172  112  167    2  336  385   39    4\n",
            "  172 4536 1111   17  546   38   13  447    4  192   50   16    6  147\n",
            " 2025   19   14   22    4 1920 4613  469    4   22   71   87   12   16\n",
            "   43  530   38   76   15   13 1247    4   22   17  515   17   12   16\n",
            "  626   18    2    5   62  386   12    8  316    8  106    5    4 2223\n",
            " 5244   16]\n"
          ]
        }
      ]
    },
    {
      "cell_type": "markdown",
      "source": [
        "## 🧠 Step 4: Building the LSTM-Based Sentiment Classifier\n",
        "\n",
        "In this step, we are building a more powerful Recurrent Neural Network (RNN) using **LSTM (Long Short-Term Memory)** units via Keras' **Sequential API**, to classify IMDB movie reviews as either positive or negative.\n",
        "\n",
        "---\n",
        "\n",
        "🔧 **Why LSTM Instead of Simple RNN?**\n",
        "- While a SimpleRNN layer can process sequential data, it **struggles with long-term dependencies** and is prone to **overfitting** and the **vanishing gradient problem**.\n",
        "- To overcome this, we use **LSTM**, which is specially designed to handle long sequences and retain important information over time.\n",
        "\n",
        "---\n",
        "\n",
        "### 🔍 Architecture Overview:\n",
        "\n",
        "- **Input Layer:** Accepts a fixed-length sequence of word indices (e.g., 100 words per review).\n",
        "  \n",
        "- **Embedding Layer:** Transforms each word index into a dense 2-dimensional vector. These word embeddings help the model understand the semantic meaning and relationships between words.\n",
        "\n",
        "- **SpatialDropout1D:** Randomly drops entire word vectors during training (not just individual values), which helps prevent overfitting in text data.\n",
        "\n",
        "- **LSTM Layer:**\n",
        "  - Contains 32 hidden units (memory cells).\n",
        "  - Includes **input dropout (0.2)** and **recurrent dropout (0.2)** to regularize both input and memory connections.\n",
        "  - This layer reads the word sequence and captures contextual dependencies over time (e.g., understanding \"not good\" ≠ \"good\").\n",
        "\n",
        "- **Dense Output Layer:** A single neuron with a **sigmoid** activation function that outputs a probability between 0 and 1.\n",
        "  - **0** = negative sentiment  \n",
        "  - **1** = positive sentiment\n",
        "\n",
        "---\n",
        "\n",
        "### 🔧 Compilation Configuration:\n",
        "- **Loss Function:** `binary_crossentropy` — perfect for binary classification tasks.\n",
        "- **Optimizer:** `adam` — fast and effective adaptive optimizer.\n",
        "- **Metrics:** `accuracy` — to track how well the model performs during training and validation.\n",
        "\n",
        "---\n",
        "\n",
        "✨ With this improved architecture, the model is now more capable of handling real-world text patterns and generalizing better across unseen reviews.\n",
        "\n",
        "---\n",
        "\n",
        "### 🏋️‍♂️ Model Training\n",
        "\n",
        "We now train our model using the padded training data. To prevent overfitting and save time, we use **EarlyStopping**, a callback that stops training if the model's performance on the validation set doesn't improve after a few epochs.\n",
        "\n",
        "---\n",
        "\n",
        "### 🔁 Training Configuration:\n",
        "\n",
        "- **`epochs=10`**: We allow the model to train for up to 10 full passes over the training data.\n",
        "- **`batch_size=128`**: The model updates its weights after processing 128 samples at a time.\n",
        "- **`validation_split=0.2`**: 20% of the training data is used for validation, to monitor how well the model generalizes.\n",
        "- **`verbose=1`**: Training progress is shown in the output.\n",
        "- **`callbacks=[early_stop]`**: We use the `EarlyStopping` callback to monitor validation loss (`val_loss`):\n",
        "  - If it doesn't improve for **3 consecutive epochs** (`patience=3`), training stops early.\n",
        "  - The model **restores the best weights** observed during training (`restore_best_weights=True`), ensuring we don't keep the overfitted version.\n",
        "\n",
        "---\n",
        "\n",
        "This training setup helps balance **model performance** with **training time**, while reducing the risk of **overfitting** to the training data.\n"
      ],
      "metadata": {
        "id": "h21tySI9ukQ0"
      }
    },
    {
      "cell_type": "code",
      "source": [
        "from tensorflow.keras.models import Sequential\n",
        "from tensorflow.keras.layers import Input, Embedding, SimpleRNN, Dense, Dropout, LSTM, SpatialDropout1D\n",
        "\n",
        "model = Sequential()\n",
        "model.add(Input(shape=(maxlen,)))                  # Each review = 100 words\n",
        "model.add(Embedding(vocab_size, 2))           # Each word → 2-dim vector\n",
        "model.add(SpatialDropout1D(0.3))\n",
        "model.add(LSTM(32, dropout=0.2, recurrent_dropout =0.2))                       # RNN on sequence\n",
        "model.add(Dense(1, activation='sigmoid'))       # Binary classification\n",
        "model.summary()"
      ],
      "metadata": {
        "colab": {
          "base_uri": "https://localhost:8080/",
          "height": 278
        },
        "id": "m3a4yWkUpWLZ",
        "outputId": "e860f494-08ef-4fd9-d753-b1f00df42401"
      },
      "execution_count": 16,
      "outputs": [
        {
          "output_type": "display_data",
          "data": {
            "text/plain": [
              "\u001b[1mModel: \"sequential_5\"\u001b[0m\n"
            ],
            "text/html": [
              "<pre style=\"white-space:pre;overflow-x:auto;line-height:normal;font-family:Menlo,'DejaVu Sans Mono',consolas,'Courier New',monospace\"><span style=\"font-weight: bold\">Model: \"sequential_5\"</span>\n",
              "</pre>\n"
            ]
          },
          "metadata": {}
        },
        {
          "output_type": "display_data",
          "data": {
            "text/plain": [
              "┏━━━━━━━━━━━━━━━━━━━━━━━━━━━━━━━━━┳━━━━━━━━━━━━━━━━━━━━━━━━┳━━━━━━━━━━━━━━━┓\n",
              "┃\u001b[1m \u001b[0m\u001b[1mLayer (type)                   \u001b[0m\u001b[1m \u001b[0m┃\u001b[1m \u001b[0m\u001b[1mOutput Shape          \u001b[0m\u001b[1m \u001b[0m┃\u001b[1m \u001b[0m\u001b[1m      Param #\u001b[0m\u001b[1m \u001b[0m┃\n",
              "┡━━━━━━━━━━━━━━━━━━━━━━━━━━━━━━━━━╇━━━━━━━━━━━━━━━━━━━━━━━━╇━━━━━━━━━━━━━━━┩\n",
              "│ embedding_5 (\u001b[38;5;33mEmbedding\u001b[0m)         │ (\u001b[38;5;45mNone\u001b[0m, \u001b[38;5;34m100\u001b[0m, \u001b[38;5;34m2\u001b[0m)         │        \u001b[38;5;34m20,000\u001b[0m │\n",
              "├─────────────────────────────────┼────────────────────────┼───────────────┤\n",
              "│ spatial_dropout1d_5             │ (\u001b[38;5;45mNone\u001b[0m, \u001b[38;5;34m100\u001b[0m, \u001b[38;5;34m2\u001b[0m)         │             \u001b[38;5;34m0\u001b[0m │\n",
              "│ (\u001b[38;5;33mSpatialDropout1D\u001b[0m)              │                        │               │\n",
              "├─────────────────────────────────┼────────────────────────┼───────────────┤\n",
              "│ lstm_5 (\u001b[38;5;33mLSTM\u001b[0m)                   │ (\u001b[38;5;45mNone\u001b[0m, \u001b[38;5;34m32\u001b[0m)             │         \u001b[38;5;34m4,480\u001b[0m │\n",
              "├─────────────────────────────────┼────────────────────────┼───────────────┤\n",
              "│ dense_2 (\u001b[38;5;33mDense\u001b[0m)                 │ (\u001b[38;5;45mNone\u001b[0m, \u001b[38;5;34m1\u001b[0m)              │            \u001b[38;5;34m33\u001b[0m │\n",
              "└─────────────────────────────────┴────────────────────────┴───────────────┘\n"
            ],
            "text/html": [
              "<pre style=\"white-space:pre;overflow-x:auto;line-height:normal;font-family:Menlo,'DejaVu Sans Mono',consolas,'Courier New',monospace\">┏━━━━━━━━━━━━━━━━━━━━━━━━━━━━━━━━━┳━━━━━━━━━━━━━━━━━━━━━━━━┳━━━━━━━━━━━━━━━┓\n",
              "┃<span style=\"font-weight: bold\"> Layer (type)                    </span>┃<span style=\"font-weight: bold\"> Output Shape           </span>┃<span style=\"font-weight: bold\">       Param # </span>┃\n",
              "┡━━━━━━━━━━━━━━━━━━━━━━━━━━━━━━━━━╇━━━━━━━━━━━━━━━━━━━━━━━━╇━━━━━━━━━━━━━━━┩\n",
              "│ embedding_5 (<span style=\"color: #0087ff; text-decoration-color: #0087ff\">Embedding</span>)         │ (<span style=\"color: #00d7ff; text-decoration-color: #00d7ff\">None</span>, <span style=\"color: #00af00; text-decoration-color: #00af00\">100</span>, <span style=\"color: #00af00; text-decoration-color: #00af00\">2</span>)         │        <span style=\"color: #00af00; text-decoration-color: #00af00\">20,000</span> │\n",
              "├─────────────────────────────────┼────────────────────────┼───────────────┤\n",
              "│ spatial_dropout1d_5             │ (<span style=\"color: #00d7ff; text-decoration-color: #00d7ff\">None</span>, <span style=\"color: #00af00; text-decoration-color: #00af00\">100</span>, <span style=\"color: #00af00; text-decoration-color: #00af00\">2</span>)         │             <span style=\"color: #00af00; text-decoration-color: #00af00\">0</span> │\n",
              "│ (<span style=\"color: #0087ff; text-decoration-color: #0087ff\">SpatialDropout1D</span>)              │                        │               │\n",
              "├─────────────────────────────────┼────────────────────────┼───────────────┤\n",
              "│ lstm_5 (<span style=\"color: #0087ff; text-decoration-color: #0087ff\">LSTM</span>)                   │ (<span style=\"color: #00d7ff; text-decoration-color: #00d7ff\">None</span>, <span style=\"color: #00af00; text-decoration-color: #00af00\">32</span>)             │         <span style=\"color: #00af00; text-decoration-color: #00af00\">4,480</span> │\n",
              "├─────────────────────────────────┼────────────────────────┼───────────────┤\n",
              "│ dense_2 (<span style=\"color: #0087ff; text-decoration-color: #0087ff\">Dense</span>)                 │ (<span style=\"color: #00d7ff; text-decoration-color: #00d7ff\">None</span>, <span style=\"color: #00af00; text-decoration-color: #00af00\">1</span>)              │            <span style=\"color: #00af00; text-decoration-color: #00af00\">33</span> │\n",
              "└─────────────────────────────────┴────────────────────────┴───────────────┘\n",
              "</pre>\n"
            ]
          },
          "metadata": {}
        },
        {
          "output_type": "display_data",
          "data": {
            "text/plain": [
              "\u001b[1m Total params: \u001b[0m\u001b[38;5;34m24,513\u001b[0m (95.75 KB)\n"
            ],
            "text/html": [
              "<pre style=\"white-space:pre;overflow-x:auto;line-height:normal;font-family:Menlo,'DejaVu Sans Mono',consolas,'Courier New',monospace\"><span style=\"font-weight: bold\"> Total params: </span><span style=\"color: #00af00; text-decoration-color: #00af00\">24,513</span> (95.75 KB)\n",
              "</pre>\n"
            ]
          },
          "metadata": {}
        },
        {
          "output_type": "display_data",
          "data": {
            "text/plain": [
              "\u001b[1m Trainable params: \u001b[0m\u001b[38;5;34m24,513\u001b[0m (95.75 KB)\n"
            ],
            "text/html": [
              "<pre style=\"white-space:pre;overflow-x:auto;line-height:normal;font-family:Menlo,'DejaVu Sans Mono',consolas,'Courier New',monospace\"><span style=\"font-weight: bold\"> Trainable params: </span><span style=\"color: #00af00; text-decoration-color: #00af00\">24,513</span> (95.75 KB)\n",
              "</pre>\n"
            ]
          },
          "metadata": {}
        },
        {
          "output_type": "display_data",
          "data": {
            "text/plain": [
              "\u001b[1m Non-trainable params: \u001b[0m\u001b[38;5;34m0\u001b[0m (0.00 B)\n"
            ],
            "text/html": [
              "<pre style=\"white-space:pre;overflow-x:auto;line-height:normal;font-family:Menlo,'DejaVu Sans Mono',consolas,'Courier New',monospace\"><span style=\"font-weight: bold\"> Non-trainable params: </span><span style=\"color: #00af00; text-decoration-color: #00af00\">0</span> (0.00 B)\n",
              "</pre>\n"
            ]
          },
          "metadata": {}
        }
      ]
    },
    {
      "cell_type": "code",
      "source": [
        "from tensorflow.keras.optimizers import Adam\n",
        "\n",
        "# Use a smaller learning rate\n",
        "optimizer = Adam(learning_rate=0.0005)\n",
        "\n",
        "model.compile(\n",
        "    loss='binary_crossentropy',       # Still suitable for binary classification\n",
        "    optimizer=optimizer,              # Slower updates (less chance of overfitting)\n",
        "    metrics=['accuracy']\n",
        ")\n"
      ],
      "metadata": {
        "id": "eBvHfBi1xLLX"
      },
      "execution_count": 17,
      "outputs": []
    },
    {
      "cell_type": "code",
      "source": [
        "from tensorflow.keras.callbacks import EarlyStopping\n",
        "early_stop = EarlyStopping(monitor = \"val_loss\", patience = 3, restore_best_weights = True)\n",
        "\n",
        "#Train the model\n",
        "history = model.fit(\n",
        "    x_train_padded, y_train,        # Training data\n",
        "    epochs=10,                       # Total passes through data\n",
        "    batch_size=128,                 # Number of samples per gradient update\n",
        "    validation_split=0.2,          # 10% training data used for validation\n",
        "    verbose=1,                      # Show training progress\n",
        "    callbacks = [early_stop]\n",
        ")\n"
      ],
      "metadata": {
        "colab": {
          "base_uri": "https://localhost:8080/"
        },
        "id": "93IoiptSzlAk",
        "outputId": "7e4c671e-1fd7-472a-f528-f99046017ca4"
      },
      "execution_count": 20,
      "outputs": [
        {
          "output_type": "stream",
          "name": "stdout",
          "text": [
            "Epoch 1/10\n",
            "\u001b[1m157/157\u001b[0m \u001b[32m━━━━━━━━━━━━━━━━━━━━\u001b[0m\u001b[37m\u001b[0m \u001b[1m52s\u001b[0m 328ms/step - accuracy: 0.7441 - loss: 0.5481 - val_accuracy: 0.7980 - val_loss: 0.4973\n",
            "Epoch 2/10\n",
            "\u001b[1m157/157\u001b[0m \u001b[32m━━━━━━━━━━━━━━━━━━━━\u001b[0m\u001b[37m\u001b[0m \u001b[1m81s\u001b[0m 326ms/step - accuracy: 0.7527 - loss: 0.5252 - val_accuracy: 0.7882 - val_loss: 0.5163\n",
            "Epoch 3/10\n",
            "\u001b[1m157/157\u001b[0m \u001b[32m━━━━━━━━━━━━━━━━━━━━\u001b[0m\u001b[37m\u001b[0m \u001b[1m52s\u001b[0m 330ms/step - accuracy: 0.7625 - loss: 0.4994 - val_accuracy: 0.8054 - val_loss: 0.4376\n",
            "Epoch 4/10\n",
            "\u001b[1m157/157\u001b[0m \u001b[32m━━━━━━━━━━━━━━━━━━━━\u001b[0m\u001b[37m\u001b[0m \u001b[1m81s\u001b[0m 326ms/step - accuracy: 0.7738 - loss: 0.4698 - val_accuracy: 0.7928 - val_loss: 0.4756\n",
            "Epoch 5/10\n",
            "\u001b[1m157/157\u001b[0m \u001b[32m━━━━━━━━━━━━━━━━━━━━\u001b[0m\u001b[37m\u001b[0m \u001b[1m54s\u001b[0m 347ms/step - accuracy: 0.7734 - loss: 0.4626 - val_accuracy: 0.8108 - val_loss: 0.4342\n",
            "Epoch 6/10\n",
            "\u001b[1m157/157\u001b[0m \u001b[32m━━━━━━━━━━━━━━━━━━━━\u001b[0m\u001b[37m\u001b[0m \u001b[1m79s\u001b[0m 329ms/step - accuracy: 0.7923 - loss: 0.4343 - val_accuracy: 0.8120 - val_loss: 0.4218\n",
            "Epoch 7/10\n",
            "\u001b[1m157/157\u001b[0m \u001b[32m━━━━━━━━━━━━━━━━━━━━\u001b[0m\u001b[37m\u001b[0m \u001b[1m82s\u001b[0m 328ms/step - accuracy: 0.7977 - loss: 0.4222 - val_accuracy: 0.8212 - val_loss: 0.4138\n",
            "Epoch 8/10\n",
            "\u001b[1m157/157\u001b[0m \u001b[32m━━━━━━━━━━━━━━━━━━━━\u001b[0m\u001b[37m\u001b[0m \u001b[1m81s\u001b[0m 326ms/step - accuracy: 0.8010 - loss: 0.4086 - val_accuracy: 0.8206 - val_loss: 0.4127\n",
            "Epoch 9/10\n",
            "\u001b[1m157/157\u001b[0m \u001b[32m━━━━━━━━━━━━━━━━━━━━\u001b[0m\u001b[37m\u001b[0m \u001b[1m82s\u001b[0m 326ms/step - accuracy: 0.8166 - loss: 0.3887 - val_accuracy: 0.8238 - val_loss: 0.4061\n",
            "Epoch 10/10\n",
            "\u001b[1m157/157\u001b[0m \u001b[32m━━━━━━━━━━━━━━━━━━━━\u001b[0m\u001b[37m\u001b[0m \u001b[1m82s\u001b[0m 324ms/step - accuracy: 0.8101 - loss: 0.3850 - val_accuracy: 0.8248 - val_loss: 0.4007\n"
          ]
        }
      ]
    },
    {
      "cell_type": "code",
      "source": [
        "import matplotlib.pyplot as plt\n",
        "\n",
        "# Plot accuracy\n",
        "plt.plot(history.history['accuracy'], label='Training Accuracy')\n",
        "plt.plot(history.history['val_accuracy'], label='Validation Accuracy')\n",
        "plt.title('Accuracy over Epochs')\n",
        "plt.xlabel('Epoch')\n",
        "plt.ylabel('Accuracy')\n",
        "plt.legend()\n",
        "plt.grid(True)\n",
        "plt.show()\n",
        "\n",
        "# Plot loss\n",
        "plt.plot(history.history['loss'], label='Training Loss')\n",
        "plt.plot(history.history['val_loss'], label='Validation Loss')\n",
        "plt.title('Loss over Epochs')\n",
        "plt.xlabel('Epoch')\n",
        "plt.ylabel('Loss')\n",
        "plt.legend()\n",
        "plt.grid(True)\n",
        "plt.show()\n"
      ],
      "metadata": {
        "colab": {
          "base_uri": "https://localhost:8080/",
          "height": 927
        },
        "id": "3tegiciYz1L6",
        "outputId": "fcdc57e7-5aa3-4448-ee1a-8be7835aa2a4"
      },
      "execution_count": 21,
      "outputs": [
        {
          "output_type": "display_data",
          "data": {
            "text/plain": [
              "<Figure size 640x480 with 1 Axes>"
            ],
            "image/png": "[encoded data removed]"
          },
          "metadata": {}
        },
        {
          "output_type": "display_data",
          "data": {
            "text/plain": [
              "<Figure size 640x480 with 1 Axes>"
            ],
            "image/png": "[encoded data removed]"
          },
          "metadata": {}
        }
      ]
    },
    {
      "cell_type": "markdown",
      "source": [
        "---\n",
        "\n",
        "### 🧪 Step 5: Model Testing & Evaluation\n",
        "\n",
        "Once our model is trained and early stopping has ensured the best weights are preserved, we now evaluate the model on **unseen test data** to check its real-world performance.\n",
        "\n",
        "---\n",
        "\n"
      ],
      "metadata": {
        "id": "ryNmmMLGeSS2"
      }
    },
    {
      "cell_type": "code",
      "source": [
        "# ✨ Step 6: Evaluate the model on test data\n",
        "test_loss, test_acc = model.evaluate(x_test_padded, y_test, verbose=1)\n",
        "\n",
        "print(f\"\\n📊 Test Accuracy: {test_acc:.4f}\")\n",
        "print(f\"📉 Test Loss: {test_loss:.4f}\")\n"
      ],
      "metadata": {
        "id": "FAC0KgK848M0",
        "colab": {
          "base_uri": "https://localhost:8080/"
        },
        "outputId": "fa5ba798-7596-43eb-a3d4-d38593a7a812"
      },
      "execution_count": 22,
      "outputs": [
        {
          "output_type": "stream",
          "name": "stdout",
          "text": [
            "\u001b[1m782/782\u001b[0m \u001b[32m━━━━━━━━━━━━━━━━━━━━\u001b[0m\u001b[37m\u001b[0m \u001b[1m47s\u001b[0m 60ms/step - accuracy: 0.7953 - loss: 0.4407\n",
            "\n",
            "📊 Test Accuracy: 0.7955\n",
            "📉 Test Loss: 0.4421\n"
          ]
        }
      ]
    },
    {
      "cell_type": "markdown",
      "source": [
        "### 🧠 Step 6: Real-Time Sentiment Prediction Function\n",
        "\n",
        "This function allows us to test **any custom review** (e.g., typed by the user) and get the sentiment prediction instantly.\n",
        "\n",
        "🔹 It performs all necessary preprocessing steps internally:\n",
        "- Converts the review into lowercase and splits it into words.\n",
        "- Looks up each word in the IMDB word index.\n",
        "- Handles any unknown words using a special `<UNK>` token.\n",
        "- Adds the `<START>` token at the beginning, just like the original IMDB dataset format.\n",
        "- Pads the review to the same fixed length (`maxlen = 100`) used during training.\n",
        "\n",
        "🔹 After preprocessing:\n",
        "- The padded input is passed directly into our trained model.\n",
        "- The model returns a **probability score** between 0 and 1.\n",
        "- The function prints both the score and the final **sentiment decision**:\n",
        "  - If score ≥ 0.5 → **Positive 😊**\n",
        "  - If score < 0.5 → **Negative 😞**\n",
        "\n",
        "✅ This means we don’t need to do any extra work like fitting a tokenizer or separately padding the input. Everything is handled inside the function. We simply pass a string and get the result.\n",
        "\n",
        "📌 Designed to be used directly after training and evaluating the model.\n",
        "\n"
      ],
      "metadata": {
        "id": "FJZg4s1Ghh0c"
      }
    },
    {
      "cell_type": "code",
      "source": [
        "from tensorflow.keras.datasets import imdb\n",
        "from tensorflow.keras.preprocessing.sequence import pad_sequences\n",
        "import numpy as np\n",
        "\n",
        "# Get the IMDB word index only once\n",
        "word_index = imdb.get_word_index()\n",
        "word_index = {k: (v + 3) for k, v in word_index.items()}\n",
        "word_index[\"<PAD>\"] = 0\n",
        "word_index[\"<START>\"] = 1\n",
        "word_index[\"<UNK>\"] = 2\n",
        "word_index[\"<UNUSED>\"] = 3\n",
        "\n",
        "# 👇 Define one single function to handle everything\n",
        "def predict_sentiment(review, model, maxlen=100):\n",
        "    # Encode review\n",
        "    tokens = review.lower().split()\n",
        "    encoded = [1]  # <START> token\n",
        "    for word in tokens:\n",
        "        if word in word_index:\n",
        "            encoded.append(word_index[word])\n",
        "        else:\n",
        "            encoded.append(2)  # <UNK>\n",
        "\n",
        "    # Pad the sequence\n",
        "    padded = pad_sequences([encoded], maxlen=maxlen)\n",
        "\n",
        "    # Predict\n",
        "    pred_prob = model.predict(padded, verbose=0)[0][0]\n",
        "\n",
        "    # Print result\n",
        "    if pred_prob >= 0.6:\n",
        "      print(f\"✅ Sentiment: Positive 😊 with a confidence of {pred_prob * 100:.2f}%\")\n",
        "    else:\n",
        "      print(f\"✅ Sentiment: Negative 😞 with a confidence of {(1 - pred_prob) * 100:.2f}%\")\n",
        "\n"
      ],
      "metadata": {
        "id": "gTXg0mxyeV4v"
      },
      "execution_count": 42,
      "outputs": []
    },
    {
      "cell_type": "code",
      "source": [
        "predict_sentiment(\"The plot was dull and boring, I slept halfway.\", model)\n"
      ],
      "metadata": {
        "colab": {
          "base_uri": "https://localhost:8080/"
        },
        "id": "erCQ7XNsgI9X",
        "outputId": "69418630-a046-4c84-b119-b3137cc9223b"
      },
      "execution_count": 43,
      "outputs": [
        {
          "output_type": "stream",
          "name": "stdout",
          "text": [
            "✅ Sentiment: Negative 😞 with a confidence of 70.04%\n"
          ]
        }
      ]
    },
    {
      "cell_type": "code",
      "source": [
        "predict_sentiment(\"This is a very thrilling movie.I recomment everyone to watch it\", model)"
      ],
      "metadata": {
        "colab": {
          "base_uri": "https://localhost:8080/"
        },
        "id": "DA90wJTigLfu",
        "outputId": "f88fb2a8-e546-4d8f-8e25-febc531d6894"
      },
      "execution_count": 44,
      "outputs": [
        {
          "output_type": "stream",
          "name": "stdout",
          "text": [
            "✅ Sentiment: Positive 😊 with a confidence of 79.66%\n"
          ]
        }
      ]
    },
    {
      "cell_type": "code",
      "source": [
        "predict_sentiment(\"Worst movie ever!\",model)"
      ],
      "metadata": {
        "colab": {
          "base_uri": "https://localhost:8080/"
        },
        "id": "HNU01OVSqKuE",
        "outputId": "2beeaf91-44c9-4be1-ebb3-b0d9e554b9f4"
      },
      "execution_count": 45,
      "outputs": [
        {
          "output_type": "stream",
          "name": "stdout",
          "text": [
            "✅ Sentiment: Negative 😞 with a confidence of 43.71%\n"
          ]
        }
      ]
    },
    {
      "cell_type": "code",
      "source": [
        "predict_sentiment(\"Awesome movie!!\", model)"
      ],
      "metadata": {
        "colab": {
          "base_uri": "https://localhost:8080/"
        },
        "id": "Qd-dbnyWqz6_",
        "outputId": "4d68f15f-2e3d-4019-98df-68d253dd61f7"
      },
      "execution_count": 46,
      "outputs": [
        {
          "output_type": "stream",
          "name": "stdout",
          "text": [
            "✅ Sentiment: Positive 😊 with a confidence of 81.33%\n"
          ]
        }
      ]
    },
    {
      "cell_type": "markdown",
      "source": [
        "# Saving the Model"
      ],
      "metadata": {
        "id": "Y8yuKkRsiwBR"
      }
    },
    {
      "cell_type": "code",
      "source": [
        "model.save(\"rnn-lstm-sentiment_model.h5\")\n"
      ],
      "metadata": {
        "colab": {
          "base_uri": "https://localhost:8080/"
        },
        "id": "EOTT-p27pv_q",
        "outputId": "c7589caa-c5d9-4aa7-84eb-800721acc379"
      },
      "execution_count": 47,
      "outputs": [
        {
          "output_type": "stream",
          "name": "stderr",
          "text": [
            "WARNING:absl:You are saving your model as an HDF5 file via `model.save()` or `keras.saving.save_model(model)`. This file format is considered legacy. We recommend using instead the native Keras format, e.g. `model.save('my_model.keras')` or `keras.saving.save_model(model, 'my_model.keras')`. \n"
          ]
        }
      ]
    },
    {
      "cell_type": "code",
      "source": [],
      "metadata": {
        "id": "d5lw0fKBpwiR"
      },
      "execution_count": null,
      "outputs": []
    }
  ]
}